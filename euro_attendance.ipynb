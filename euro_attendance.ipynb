{
 "cells": [
  {
   "cell_type": "markdown",
   "source": [
    "Euro match attendance"
   ],
   "metadata": {
    "collapsed": false
   },
   "id": "47c1f248d34f9dd1"
  },
  {
   "cell_type": "code",
   "outputs": [],
   "source": [
    "import pandas as pd\n",
    "import glob"
   ],
   "metadata": {
    "collapsed": false,
    "ExecuteTime": {
     "end_time": "2024-08-07T21:11:07.323331Z",
     "start_time": "2024-08-07T21:11:07.321146Z"
    }
   },
   "id": "9f1799a6af40de86",
   "execution_count": 50
  },
  {
   "cell_type": "code",
   "outputs": [],
   "source": [
    "path_pattern = \"datasets/matches/matches/euro/*.csv\""
   ],
   "metadata": {
    "collapsed": false,
    "ExecuteTime": {
     "end_time": "2024-08-07T21:11:07.327260Z",
     "start_time": "2024-08-07T21:11:07.325403Z"
    }
   },
   "id": "c8ef692b6a2ec6bd",
   "execution_count": 51
  },
  {
   "cell_type": "code",
   "outputs": [],
   "source": [
    "csv_files = glob.glob(path_pattern)"
   ],
   "metadata": {
    "collapsed": false,
    "ExecuteTime": {
     "end_time": "2024-08-07T21:11:07.330817Z",
     "start_time": "2024-08-07T21:11:07.328458Z"
    }
   },
   "id": "61296e1e21d765ff",
   "execution_count": 52
  },
  {
   "cell_type": "code",
   "outputs": [],
   "source": [
    "dfs = []\n",
    "for file in csv_files:\n",
    "    df = pd.read_csv(file)\n",
    "    dfs.append(df)\n",
    "\n",
    "combined_euros = pd.concat(dfs, ignore_index=True)"
   ],
   "metadata": {
    "collapsed": false,
    "ExecuteTime": {
     "end_time": "2024-08-07T21:11:07.533652Z",
     "start_time": "2024-08-07T21:11:07.334723Z"
    }
   },
   "id": "fdb6af31a78be971",
   "execution_count": 53
  },
  {
   "cell_type": "code",
   "outputs": [
    {
     "data": {
      "text/plain": "     id_match       home_team     away_team home_team_code away_team_code  \\\n0        3463          France         Spain            FRA            ESP   \n1        3462         Denmark         Spain            DEN            ESP   \n2        3461          France      Portugal            FRA            POR   \n3        3460        Portugal       Romania            POR            ROU   \n4        3459    West Germany         Spain            FRG            ESP   \n..        ...             ...           ...            ...            ...   \n383         5    West Germany         Italy            FRG            ITA   \n384      3693  Czechoslovakia  West Germany            TCH            FRG   \n385      3692     Netherlands    Yugoslavia            NED            YUG   \n386      3691      Yugoslavia  West Germany            YUG            FRG   \n387      3690  Czechoslovakia   Netherlands            TCH            NED   \n\n     home_score  away_score  home_penalty  away_penalty  home_score_total  \\\n0           2.0         0.0           NaN           NaN               2.0   \n1           0.0         0.0           4.0           5.0               1.0   \n2           1.0         1.0           NaN           NaN               3.0   \n3           1.0         0.0           NaN           NaN               1.0   \n4           0.0         1.0           NaN           NaN               0.0   \n..          ...         ...           ...           ...               ...   \n383         1.0         1.0           NaN           NaN               1.0   \n384         2.0         2.0           5.0           3.0               2.0   \n385         2.0         2.0           NaN           NaN               3.0   \n386         2.0         2.0           NaN           NaN               2.0   \n387         1.0         1.0           NaN           NaN               3.0   \n\n     ...           stadium_name   stadium_name_media  stadium_name_official  \\\n0    ...       Parc des Princes     Parc des Princes       Parc des Princes   \n1    ...       Stade de Gerland     Stade de Gerland       Stade de Gerland   \n2    ...     Stade de Marseille   Stade de Marseille     Stade de Marseille   \n3    ...  Stade de la Beaujoire         La Beaujoire  Stade de la Beaujoire   \n4    ...       Parc des Princes     Parc des Princes       Parc des Princes   \n..   ...                    ...                  ...                    ...   \n383  ...           Rheinstadion         Rheinstadion           Rheinstadion   \n384  ...    Stadion Rajko Mitić  Stadion Rajko Mitic    Stadion Rajko Mitić   \n385  ...       Stadion Maksimir     Stadion Maksimir       Stadion Maksimir   \n386  ...    Stadion Rajko Mitić  Stadion Rajko Mitic    Stadion Rajko Mitić   \n387  ...       Stadion Maksimir     Stadion Maksimir       Stadion Maksimir   \n\n        stadium_name_event   stadium_name_sponsor  \\\n0         Parc des Princes       Parc des Princes   \n1         Stade de Gerland       Stade de Gerland   \n2       Stade de Marseille       Orange Vélodrome   \n3    Stade de la Beaujoire  Stade de la Beaujoire   \n4         Parc des Princes       Parc des Princes   \n..                     ...                    ...   \n383           Rheinstadion    \"stadium destroyed\"   \n384    Stadion Rajko Mitić    Stadion Rajko Mitić   \n385       Stadion Maksimir       Stadion Maksimir   \n386    Stadion Rajko Mitić    Stadion Rajko Mitić   \n387       Stadion Maksimir       Stadion Maksimir   \n\n                                          home_lineups  \\\n0    [{'country_code': 'FRA', 'name': 'Manuel Amoro...   \n1    [{'country_code': 'DEN', 'name': 'Jesper Olsen...   \n2    [{'country_code': 'FRA', 'name': 'Jean-Marc Fe...   \n3    [{'country_code': 'POR', 'name': 'Diamantino',...   \n4    [{'country_code': 'GER', 'name': 'Wolfgang Rol...   \n..                                                 ...   \n383  [{'country_code': 'GER', 'name': 'Ulrich Borow...   \n384  [{'country_code': 'SVK', 'name': 'Ladislav Jur...   \n385  [{'country_code': 'NED', 'name': 'Wim Rijsberg...   \n386  [{'country_code': 'SRB', 'name': 'Enver Marić'...   \n387  [{'country_code': 'SVK', 'name': 'Ladislav Jur...   \n\n                                          away_lineups  \\\n0    [{'country_code': 'ESP', 'name': 'Manuel Sarab...   \n1    [{'country_code': 'ESP', 'name': 'Manuel Sarab...   \n2    [{'country_code': 'POR', 'name': 'Fernando Gom...   \n3    [{'country_code': 'ROU', 'name': 'Ionel August...   \n4    [{'country_code': 'ESP', 'name': 'Salva', 'nam...   \n..                                                 ...   \n383  [{'country_code': 'ITA', 'name': 'Ciro Ferrara...   \n384  [{'country_code': 'GER', 'name': 'Hans Bongart...   \n385  [{'country_code': 'SRB', 'name': 'Enver Marić'...   \n386  [{'country_code': 'GER', 'name': 'Dieter Mülle...   \n387  [{'country_code': 'NED', 'name': 'Wim van Hane...   \n\n                                          home_coaches  \\\n0                                                   []   \n1                                                   []   \n2                                                   []   \n3                                                   []   \n4                                                   []   \n..                                                 ...   \n383                                                 []   \n384  [{'country_code': 'CZE', 'country': 'Czechia',...   \n385                                                 []   \n386  [{'country_code': 'SRB', 'country': 'Serbia', ...   \n387  [{'country_code': 'CZE', 'country': 'Czechia',...   \n\n                                          away_coaches  \\\n0                                                   []   \n1                                                   []   \n2                                                   []   \n3                                                   []   \n4                                                   []   \n..                                                 ...   \n383                                                 []   \n384  [{'country_code': 'GER', 'country': 'Germany',...   \n385                                                 []   \n386  [{'country_code': 'GER', 'country': 'Germany',...   \n387  [{'country_code': 'NED', 'country': 'Netherlan...   \n\n                                                events  \n0    [{'id': '10952', 'phase': 'SECOND_HALF', 'type...  \n1    [{'id': '20AA1BED775842B88CC9976A45495F4A', 'p...  \n2    [{'id': '31135', 'phase': 'EXTRA_TIME_SECOND_H...  \n3    [{'id': '11148', 'phase': 'SECOND_HALF', 'type...  \n4    [{'id': '11152', 'phase': 'SECOND_HALF', 'type...  \n..                                                 ...  \n383  [{'id': '83093', 'phase': 'SECOND_HALF', 'type...  \n384  [{'id': '10602', 'phase': 'PENALTY', 'type': '...  \n385  [{'id': '33087', 'phase': 'EXTRA_TIME_SECOND_H...  \n386  [{'id': '10594', 'phase': 'EXTRA_TIME_SECOND_H...  \n387  [{'id': '11583', 'phase': 'EXTRA_TIME_SECOND_H...  \n\n[388 rows x 52 columns]",
      "text/html": "<div>\n<style scoped>\n    .dataframe tbody tr th:only-of-type {\n        vertical-align: middle;\n    }\n\n    .dataframe tbody tr th {\n        vertical-align: top;\n    }\n\n    .dataframe thead th {\n        text-align: right;\n    }\n</style>\n<table border=\"1\" class=\"dataframe\">\n  <thead>\n    <tr style=\"text-align: right;\">\n      <th></th>\n      <th>id_match</th>\n      <th>home_team</th>\n      <th>away_team</th>\n      <th>home_team_code</th>\n      <th>away_team_code</th>\n      <th>home_score</th>\n      <th>away_score</th>\n      <th>home_penalty</th>\n      <th>away_penalty</th>\n      <th>home_score_total</th>\n      <th>...</th>\n      <th>stadium_name</th>\n      <th>stadium_name_media</th>\n      <th>stadium_name_official</th>\n      <th>stadium_name_event</th>\n      <th>stadium_name_sponsor</th>\n      <th>home_lineups</th>\n      <th>away_lineups</th>\n      <th>home_coaches</th>\n      <th>away_coaches</th>\n      <th>events</th>\n    </tr>\n  </thead>\n  <tbody>\n    <tr>\n      <th>0</th>\n      <td>3463</td>\n      <td>France</td>\n      <td>Spain</td>\n      <td>FRA</td>\n      <td>ESP</td>\n      <td>2.0</td>\n      <td>0.0</td>\n      <td>NaN</td>\n      <td>NaN</td>\n      <td>2.0</td>\n      <td>...</td>\n      <td>Parc des Princes</td>\n      <td>Parc des Princes</td>\n      <td>Parc des Princes</td>\n      <td>Parc des Princes</td>\n      <td>Parc des Princes</td>\n      <td>[{'country_code': 'FRA', 'name': 'Manuel Amoro...</td>\n      <td>[{'country_code': 'ESP', 'name': 'Manuel Sarab...</td>\n      <td>[]</td>\n      <td>[]</td>\n      <td>[{'id': '10952', 'phase': 'SECOND_HALF', 'type...</td>\n    </tr>\n    <tr>\n      <th>1</th>\n      <td>3462</td>\n      <td>Denmark</td>\n      <td>Spain</td>\n      <td>DEN</td>\n      <td>ESP</td>\n      <td>0.0</td>\n      <td>0.0</td>\n      <td>4.0</td>\n      <td>5.0</td>\n      <td>1.0</td>\n      <td>...</td>\n      <td>Stade de Gerland</td>\n      <td>Stade de Gerland</td>\n      <td>Stade de Gerland</td>\n      <td>Stade de Gerland</td>\n      <td>Stade de Gerland</td>\n      <td>[{'country_code': 'DEN', 'name': 'Jesper Olsen...</td>\n      <td>[{'country_code': 'ESP', 'name': 'Manuel Sarab...</td>\n      <td>[]</td>\n      <td>[]</td>\n      <td>[{'id': '20AA1BED775842B88CC9976A45495F4A', 'p...</td>\n    </tr>\n    <tr>\n      <th>2</th>\n      <td>3461</td>\n      <td>France</td>\n      <td>Portugal</td>\n      <td>FRA</td>\n      <td>POR</td>\n      <td>1.0</td>\n      <td>1.0</td>\n      <td>NaN</td>\n      <td>NaN</td>\n      <td>3.0</td>\n      <td>...</td>\n      <td>Stade de Marseille</td>\n      <td>Stade de Marseille</td>\n      <td>Stade de Marseille</td>\n      <td>Stade de Marseille</td>\n      <td>Orange Vélodrome</td>\n      <td>[{'country_code': 'FRA', 'name': 'Jean-Marc Fe...</td>\n      <td>[{'country_code': 'POR', 'name': 'Fernando Gom...</td>\n      <td>[]</td>\n      <td>[]</td>\n      <td>[{'id': '31135', 'phase': 'EXTRA_TIME_SECOND_H...</td>\n    </tr>\n    <tr>\n      <th>3</th>\n      <td>3460</td>\n      <td>Portugal</td>\n      <td>Romania</td>\n      <td>POR</td>\n      <td>ROU</td>\n      <td>1.0</td>\n      <td>0.0</td>\n      <td>NaN</td>\n      <td>NaN</td>\n      <td>1.0</td>\n      <td>...</td>\n      <td>Stade de la Beaujoire</td>\n      <td>La Beaujoire</td>\n      <td>Stade de la Beaujoire</td>\n      <td>Stade de la Beaujoire</td>\n      <td>Stade de la Beaujoire</td>\n      <td>[{'country_code': 'POR', 'name': 'Diamantino',...</td>\n      <td>[{'country_code': 'ROU', 'name': 'Ionel August...</td>\n      <td>[]</td>\n      <td>[]</td>\n      <td>[{'id': '11148', 'phase': 'SECOND_HALF', 'type...</td>\n    </tr>\n    <tr>\n      <th>4</th>\n      <td>3459</td>\n      <td>West Germany</td>\n      <td>Spain</td>\n      <td>FRG</td>\n      <td>ESP</td>\n      <td>0.0</td>\n      <td>1.0</td>\n      <td>NaN</td>\n      <td>NaN</td>\n      <td>0.0</td>\n      <td>...</td>\n      <td>Parc des Princes</td>\n      <td>Parc des Princes</td>\n      <td>Parc des Princes</td>\n      <td>Parc des Princes</td>\n      <td>Parc des Princes</td>\n      <td>[{'country_code': 'GER', 'name': 'Wolfgang Rol...</td>\n      <td>[{'country_code': 'ESP', 'name': 'Salva', 'nam...</td>\n      <td>[]</td>\n      <td>[]</td>\n      <td>[{'id': '11152', 'phase': 'SECOND_HALF', 'type...</td>\n    </tr>\n    <tr>\n      <th>...</th>\n      <td>...</td>\n      <td>...</td>\n      <td>...</td>\n      <td>...</td>\n      <td>...</td>\n      <td>...</td>\n      <td>...</td>\n      <td>...</td>\n      <td>...</td>\n      <td>...</td>\n      <td>...</td>\n      <td>...</td>\n      <td>...</td>\n      <td>...</td>\n      <td>...</td>\n      <td>...</td>\n      <td>...</td>\n      <td>...</td>\n      <td>...</td>\n      <td>...</td>\n      <td>...</td>\n    </tr>\n    <tr>\n      <th>383</th>\n      <td>5</td>\n      <td>West Germany</td>\n      <td>Italy</td>\n      <td>FRG</td>\n      <td>ITA</td>\n      <td>1.0</td>\n      <td>1.0</td>\n      <td>NaN</td>\n      <td>NaN</td>\n      <td>1.0</td>\n      <td>...</td>\n      <td>Rheinstadion</td>\n      <td>Rheinstadion</td>\n      <td>Rheinstadion</td>\n      <td>Rheinstadion</td>\n      <td>\"stadium destroyed\"</td>\n      <td>[{'country_code': 'GER', 'name': 'Ulrich Borow...</td>\n      <td>[{'country_code': 'ITA', 'name': 'Ciro Ferrara...</td>\n      <td>[]</td>\n      <td>[]</td>\n      <td>[{'id': '83093', 'phase': 'SECOND_HALF', 'type...</td>\n    </tr>\n    <tr>\n      <th>384</th>\n      <td>3693</td>\n      <td>Czechoslovakia</td>\n      <td>West Germany</td>\n      <td>TCH</td>\n      <td>FRG</td>\n      <td>2.0</td>\n      <td>2.0</td>\n      <td>5.0</td>\n      <td>3.0</td>\n      <td>2.0</td>\n      <td>...</td>\n      <td>Stadion Rajko Mitić</td>\n      <td>Stadion Rajko Mitic</td>\n      <td>Stadion Rajko Mitić</td>\n      <td>Stadion Rajko Mitić</td>\n      <td>Stadion Rajko Mitić</td>\n      <td>[{'country_code': 'SVK', 'name': 'Ladislav Jur...</td>\n      <td>[{'country_code': 'GER', 'name': 'Hans Bongart...</td>\n      <td>[{'country_code': 'CZE', 'country': 'Czechia',...</td>\n      <td>[{'country_code': 'GER', 'country': 'Germany',...</td>\n      <td>[{'id': '10602', 'phase': 'PENALTY', 'type': '...</td>\n    </tr>\n    <tr>\n      <th>385</th>\n      <td>3692</td>\n      <td>Netherlands</td>\n      <td>Yugoslavia</td>\n      <td>NED</td>\n      <td>YUG</td>\n      <td>2.0</td>\n      <td>2.0</td>\n      <td>NaN</td>\n      <td>NaN</td>\n      <td>3.0</td>\n      <td>...</td>\n      <td>Stadion Maksimir</td>\n      <td>Stadion Maksimir</td>\n      <td>Stadion Maksimir</td>\n      <td>Stadion Maksimir</td>\n      <td>Stadion Maksimir</td>\n      <td>[{'country_code': 'NED', 'name': 'Wim Rijsberg...</td>\n      <td>[{'country_code': 'SRB', 'name': 'Enver Marić'...</td>\n      <td>[]</td>\n      <td>[]</td>\n      <td>[{'id': '33087', 'phase': 'EXTRA_TIME_SECOND_H...</td>\n    </tr>\n    <tr>\n      <th>386</th>\n      <td>3691</td>\n      <td>Yugoslavia</td>\n      <td>West Germany</td>\n      <td>YUG</td>\n      <td>FRG</td>\n      <td>2.0</td>\n      <td>2.0</td>\n      <td>NaN</td>\n      <td>NaN</td>\n      <td>2.0</td>\n      <td>...</td>\n      <td>Stadion Rajko Mitić</td>\n      <td>Stadion Rajko Mitic</td>\n      <td>Stadion Rajko Mitić</td>\n      <td>Stadion Rajko Mitić</td>\n      <td>Stadion Rajko Mitić</td>\n      <td>[{'country_code': 'SRB', 'name': 'Enver Marić'...</td>\n      <td>[{'country_code': 'GER', 'name': 'Dieter Mülle...</td>\n      <td>[{'country_code': 'SRB', 'country': 'Serbia', ...</td>\n      <td>[{'country_code': 'GER', 'country': 'Germany',...</td>\n      <td>[{'id': '10594', 'phase': 'EXTRA_TIME_SECOND_H...</td>\n    </tr>\n    <tr>\n      <th>387</th>\n      <td>3690</td>\n      <td>Czechoslovakia</td>\n      <td>Netherlands</td>\n      <td>TCH</td>\n      <td>NED</td>\n      <td>1.0</td>\n      <td>1.0</td>\n      <td>NaN</td>\n      <td>NaN</td>\n      <td>3.0</td>\n      <td>...</td>\n      <td>Stadion Maksimir</td>\n      <td>Stadion Maksimir</td>\n      <td>Stadion Maksimir</td>\n      <td>Stadion Maksimir</td>\n      <td>Stadion Maksimir</td>\n      <td>[{'country_code': 'SVK', 'name': 'Ladislav Jur...</td>\n      <td>[{'country_code': 'NED', 'name': 'Wim van Hane...</td>\n      <td>[{'country_code': 'CZE', 'country': 'Czechia',...</td>\n      <td>[{'country_code': 'NED', 'country': 'Netherlan...</td>\n      <td>[{'id': '11583', 'phase': 'EXTRA_TIME_SECOND_H...</td>\n    </tr>\n  </tbody>\n</table>\n<p>388 rows × 52 columns</p>\n</div>"
     },
     "execution_count": 54,
     "metadata": {},
     "output_type": "execute_result"
    }
   ],
   "source": [
    "combined_euros"
   ],
   "metadata": {
    "collapsed": false,
    "ExecuteTime": {
     "end_time": "2024-08-07T21:11:07.546899Z",
     "start_time": "2024-08-07T21:11:07.534863Z"
    }
   },
   "id": "e7fa88fd775711c0",
   "execution_count": 54
  },
  {
   "cell_type": "code",
   "outputs": [
    {
     "data": {
      "text/plain": "Index(['id_match', 'home_team', 'away_team', 'home_team_code',\n       'away_team_code', 'home_score', 'away_score', 'home_penalty',\n       'away_penalty', 'home_score_total', 'away_score_total', 'winner',\n       'winner_reason', 'year', 'date', 'date_time', 'utc_offset_hours',\n       'group_name', 'matchday_name', 'condition_humidity', 'condition_pitch',\n       'condition_temperature', 'condition_weather', 'condition_wind_speed',\n       'status', 'type', 'round', 'round_mode', 'match_attendance',\n       'stadium_id', 'stadium_country_code', 'stadium_capacity',\n       'stadium_latitude', 'stadium_longitude', 'stadium_pitch_length',\n       'stadium_pitch_width', 'goals', 'penalties_missed', 'penalties',\n       'red_cards', 'game_referees', 'stadium_city', 'stadium_name',\n       'stadium_name_media', 'stadium_name_official', 'stadium_name_event',\n       'stadium_name_sponsor', 'home_lineups', 'away_lineups', 'home_coaches',\n       'away_coaches', 'events'],\n      dtype='object')"
     },
     "execution_count": 55,
     "metadata": {},
     "output_type": "execute_result"
    }
   ],
   "source": [
    "combined_euros.columns"
   ],
   "metadata": {
    "collapsed": false,
    "ExecuteTime": {
     "end_time": "2024-08-07T21:11:07.551905Z",
     "start_time": "2024-08-07T21:11:07.548160Z"
    }
   },
   "id": "af9aad91de054a23",
   "execution_count": 55
  },
  {
   "cell_type": "code",
   "outputs": [],
   "source": [
    "columns_to_keep = [\n",
    "    'home_team', 'away_team', 'home_team_code', 'away_team_code',\n",
    "    'year', 'date', 'date_time', 'group_name', 'round',\n",
    "    'match_attendance', 'stadium_id', 'stadium_country_code',\n",
    "    'stadium_capacity', 'stadium_latitude', 'stadium_longitude',\n",
    "    'stadium_city', 'stadium_name', 'stadium_name_official', 'stadium_name_event'\n",
    "]"
   ],
   "metadata": {
    "collapsed": false,
    "ExecuteTime": {
     "end_time": "2024-08-07T21:11:07.555172Z",
     "start_time": "2024-08-07T21:11:07.553543Z"
    }
   },
   "id": "3b23cc43381cee62",
   "execution_count": 56
  },
  {
   "cell_type": "code",
   "outputs": [],
   "source": [
    "\n",
    "combined_euros_attendance = combined_euros[columns_to_keep].copy()"
   ],
   "metadata": {
    "collapsed": false,
    "ExecuteTime": {
     "end_time": "2024-08-07T21:11:07.558933Z",
     "start_time": "2024-08-07T21:11:07.555871Z"
    }
   },
   "id": "638558967ee9e132",
   "execution_count": 57
  },
  {
   "cell_type": "code",
   "outputs": [],
   "source": [
    "combined_euros_attendance['stadium_percentage_filled'] = (combined_euros_attendance['match_attendance'] / combined_euros_attendance['stadium_capacity']) * 100"
   ],
   "metadata": {
    "collapsed": false,
    "ExecuteTime": {
     "end_time": "2024-08-07T21:11:07.561443Z",
     "start_time": "2024-08-07T21:11:07.559454Z"
    }
   },
   "id": "de3f759c392eb6bc",
   "execution_count": 58
  },
  {
   "cell_type": "code",
   "outputs": [
    {
     "data": {
      "text/plain": "      home_team away_team home_team_code away_team_code  year        date  \\\n0        France     Spain            FRA            ESP  1984  1984-06-27   \n1       Denmark     Spain            DEN            ESP  1984  1984-06-24   \n2        France  Portugal            FRA            POR  1984  1984-06-23   \n3      Portugal   Romania            POR            ROU  1984  1984-06-20   \n4  West Germany     Spain            FRG            ESP  1984  1984-06-20   \n\n              date_time group_name            round  match_attendance  \\\n0  1984-06-27T18:00:00Z        NaN            FINAL           47368.0   \n1  1984-06-24T18:00:00Z        NaN        SEMIFINAL           47843.0   \n2  1984-06-23T18:00:00Z        NaN        SEMIFINAL           54848.0   \n3  1984-06-20T18:30:00Z    Group 2  GROUP_STANDINGS           24464.0   \n4  1984-06-20T18:30:00Z    Group 2  GROUP_STANDINGS           47691.0   \n\n   stadium_id stadium_country_code  stadium_capacity  stadium_latitude  \\\n0       57779                  FRA           47926.0         48.841433   \n1       62102                  FRA           41069.0         45.723728   \n2       62337                  FRA           66534.0         43.269830   \n3       63199                  FRA           35291.0         47.256006   \n4       57779                  FRA           47926.0         48.841433   \n\n   stadium_longitude stadium_city           stadium_name  \\\n0           2.253033        Paris       Parc des Princes   \n1           4.832231         Lyon       Stade de Gerland   \n2           5.396000    Marseille     Stade de Marseille   \n3          -1.524708       Nantes  Stade de la Beaujoire   \n4           2.253033        Paris       Parc des Princes   \n\n   stadium_name_official     stadium_name_event  stadium_percentage_filled  \n0       Parc des Princes       Parc des Princes                  98.835705  \n1       Stade de Gerland       Stade de Gerland                 116.494193  \n2     Stade de Marseille     Stade de Marseille                  82.436048  \n3  Stade de la Beaujoire  Stade de la Beaujoire                  69.320790  \n4       Parc des Princes       Parc des Princes                  99.509661  ",
      "text/html": "<div>\n<style scoped>\n    .dataframe tbody tr th:only-of-type {\n        vertical-align: middle;\n    }\n\n    .dataframe tbody tr th {\n        vertical-align: top;\n    }\n\n    .dataframe thead th {\n        text-align: right;\n    }\n</style>\n<table border=\"1\" class=\"dataframe\">\n  <thead>\n    <tr style=\"text-align: right;\">\n      <th></th>\n      <th>home_team</th>\n      <th>away_team</th>\n      <th>home_team_code</th>\n      <th>away_team_code</th>\n      <th>year</th>\n      <th>date</th>\n      <th>date_time</th>\n      <th>group_name</th>\n      <th>round</th>\n      <th>match_attendance</th>\n      <th>stadium_id</th>\n      <th>stadium_country_code</th>\n      <th>stadium_capacity</th>\n      <th>stadium_latitude</th>\n      <th>stadium_longitude</th>\n      <th>stadium_city</th>\n      <th>stadium_name</th>\n      <th>stadium_name_official</th>\n      <th>stadium_name_event</th>\n      <th>stadium_percentage_filled</th>\n    </tr>\n  </thead>\n  <tbody>\n    <tr>\n      <th>0</th>\n      <td>France</td>\n      <td>Spain</td>\n      <td>FRA</td>\n      <td>ESP</td>\n      <td>1984</td>\n      <td>1984-06-27</td>\n      <td>1984-06-27T18:00:00Z</td>\n      <td>NaN</td>\n      <td>FINAL</td>\n      <td>47368.0</td>\n      <td>57779</td>\n      <td>FRA</td>\n      <td>47926.0</td>\n      <td>48.841433</td>\n      <td>2.253033</td>\n      <td>Paris</td>\n      <td>Parc des Princes</td>\n      <td>Parc des Princes</td>\n      <td>Parc des Princes</td>\n      <td>98.835705</td>\n    </tr>\n    <tr>\n      <th>1</th>\n      <td>Denmark</td>\n      <td>Spain</td>\n      <td>DEN</td>\n      <td>ESP</td>\n      <td>1984</td>\n      <td>1984-06-24</td>\n      <td>1984-06-24T18:00:00Z</td>\n      <td>NaN</td>\n      <td>SEMIFINAL</td>\n      <td>47843.0</td>\n      <td>62102</td>\n      <td>FRA</td>\n      <td>41069.0</td>\n      <td>45.723728</td>\n      <td>4.832231</td>\n      <td>Lyon</td>\n      <td>Stade de Gerland</td>\n      <td>Stade de Gerland</td>\n      <td>Stade de Gerland</td>\n      <td>116.494193</td>\n    </tr>\n    <tr>\n      <th>2</th>\n      <td>France</td>\n      <td>Portugal</td>\n      <td>FRA</td>\n      <td>POR</td>\n      <td>1984</td>\n      <td>1984-06-23</td>\n      <td>1984-06-23T18:00:00Z</td>\n      <td>NaN</td>\n      <td>SEMIFINAL</td>\n      <td>54848.0</td>\n      <td>62337</td>\n      <td>FRA</td>\n      <td>66534.0</td>\n      <td>43.269830</td>\n      <td>5.396000</td>\n      <td>Marseille</td>\n      <td>Stade de Marseille</td>\n      <td>Stade de Marseille</td>\n      <td>Stade de Marseille</td>\n      <td>82.436048</td>\n    </tr>\n    <tr>\n      <th>3</th>\n      <td>Portugal</td>\n      <td>Romania</td>\n      <td>POR</td>\n      <td>ROU</td>\n      <td>1984</td>\n      <td>1984-06-20</td>\n      <td>1984-06-20T18:30:00Z</td>\n      <td>Group 2</td>\n      <td>GROUP_STANDINGS</td>\n      <td>24464.0</td>\n      <td>63199</td>\n      <td>FRA</td>\n      <td>35291.0</td>\n      <td>47.256006</td>\n      <td>-1.524708</td>\n      <td>Nantes</td>\n      <td>Stade de la Beaujoire</td>\n      <td>Stade de la Beaujoire</td>\n      <td>Stade de la Beaujoire</td>\n      <td>69.320790</td>\n    </tr>\n    <tr>\n      <th>4</th>\n      <td>West Germany</td>\n      <td>Spain</td>\n      <td>FRG</td>\n      <td>ESP</td>\n      <td>1984</td>\n      <td>1984-06-20</td>\n      <td>1984-06-20T18:30:00Z</td>\n      <td>Group 2</td>\n      <td>GROUP_STANDINGS</td>\n      <td>47691.0</td>\n      <td>57779</td>\n      <td>FRA</td>\n      <td>47926.0</td>\n      <td>48.841433</td>\n      <td>2.253033</td>\n      <td>Paris</td>\n      <td>Parc des Princes</td>\n      <td>Parc des Princes</td>\n      <td>Parc des Princes</td>\n      <td>99.509661</td>\n    </tr>\n  </tbody>\n</table>\n</div>"
     },
     "execution_count": 59,
     "metadata": {},
     "output_type": "execute_result"
    }
   ],
   "source": [
    "combined_euros_attendance.head()"
   ],
   "metadata": {
    "collapsed": false,
    "ExecuteTime": {
     "end_time": "2024-08-07T21:11:07.567714Z",
     "start_time": "2024-08-07T21:11:07.562144Z"
    }
   },
   "id": "3a79f46ff4a7cdcf",
   "execution_count": 59
  },
  {
   "cell_type": "code",
   "outputs": [],
   "source": [],
   "metadata": {
    "collapsed": false,
    "ExecuteTime": {
     "end_time": "2024-08-07T21:11:07.569743Z",
     "start_time": "2024-08-07T21:11:07.568438Z"
    }
   },
   "id": "8c8538354554b141",
   "execution_count": 59
  }
 ],
 "metadata": {
  "kernelspec": {
   "display_name": "Python 3 (ipykernel)",
   "language": "python",
   "name": "python3"
  },
  "language_info": {
   "codemirror_mode": {
    "name": "ipython",
    "version": 3
   },
   "file_extension": ".py",
   "mimetype": "text/x-python",
   "name": "python",
   "nbconvert_exporter": "python",
   "pygments_lexer": "ipython3",
   "version": "3.11.4"
  }
 },
 "nbformat": 4,
 "nbformat_minor": 5
}
